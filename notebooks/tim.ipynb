{
 "cells": [
  {
   "cell_type": "markdown",
   "id": "b6da0ca0",
   "metadata": {},
   "source": [
    "https://www.youtube.com/watch?v=gRLHr664tXA"
   ]
  },
  {
   "cell_type": "code",
   "execution_count": null,
   "id": "292e9f91",
   "metadata": {},
   "outputs": [],
   "source": [
    "from bs4 import BeautifulSoup"
   ]
  }
 ],
 "metadata": {
  "kernelspec": {
   "display_name": "Python 3 (ipykernel)",
   "language": "python",
   "name": "python3"
  },
  "language_info": {
   "codemirror_mode": {
    "name": "ipython",
    "version": 3
   },
   "file_extension": ".py",
   "mimetype": "text/x-python",
   "name": "python",
   "nbconvert_exporter": "python",
   "pygments_lexer": "ipython3",
   "version": "3.10.2"
  }
 },
 "nbformat": 4,
 "nbformat_minor": 5
}
