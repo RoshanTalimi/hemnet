{
 "cells": [
  {
   "cell_type": "code",
   "execution_count": 1,
   "id": "48eca576",
   "metadata": {},
   "outputs": [],
   "source": [
    "import requests\n",
    "from bs4 import BeautifulSoup"
   ]
  },
  {
   "cell_type": "markdown",
   "id": "b7826b4c",
   "metadata": {},
   "source": [
    "https://www.youtube.com/watch?v=ng2o98k983k  \n",
    "https://www.youtube.com/watch?v=a6fIbtFB46g\n",
    "\n",
    "https://www.youtube.com/watch?v=tb8gHvYlCFs"
   ]
  },
  {
   "cell_type": "code",
   "execution_count": null,
   "id": "52940790",
   "metadata": {},
   "outputs": [],
   "source": []
  },
  {
   "cell_type": "code",
   "execution_count": 10,
   "id": "589177aa",
   "metadata": {},
   "outputs": [],
   "source": [
    "jungfrudansen12 = \"https://www.hemnet.se/bostad/lagenhet-3rum-jungfrudansen-solna-kommun-jungfrudansen-12-18482438\"\n",
    "jungfrudansen44 = \"https://www.hemnet.se/bostad/lagenhet-5rum-jungfrudansen-solna-kommun-jungfrudansen-44-18673437\"\n",
    "jungfrudansen28 = \"https://www.hemnet.se/bostad/lagenhet-4rum-huvudsta-solna-kommun-jungfrudansen-28-18712488\""
   ]
  },
  {
   "cell_type": "code",
   "execution_count": 5,
   "id": "88d501d6",
   "metadata": {},
   "outputs": [],
   "source": [
    "jungfrudansen12_req = requests.get(jungfrudansen12).text"
   ]
  },
  {
   "cell_type": "code",
   "execution_count": 6,
   "id": "c1d6ffc3",
   "metadata": {},
   "outputs": [],
   "source": [
    "jungfrudansen12_soup = BeautifulSoup(jungfrudansen12_object, \"lxml\")"
   ]
  },
  {
   "cell_type": "code",
   "execution_count": 11,
   "id": "bec8fd7b",
   "metadata": {},
   "outputs": [
    {
     "data": {
      "text/plain": [
       "<!DOCTYPE html>\n",
       "<!--[if lt IE 7]> <html class=\"no-js ie6 oldie\" lang=\"en-US\"> <![endif]--><!--[if IE 7]>    <html class=\"no-js ie7 oldie\" lang=\"en-US\"> <![endif]--><!--[if IE 8]>    <html class=\"no-js ie8 oldie\" lang=\"en-US\"> <![endif]--><!--[if gt IE 8]><!--><html class=\"no-js\" lang=\"en-US\"> <!--<![endif]-->\n",
       "<head>\n",
       "<title>Attention Required! | Cloudflare</title>\n",
       "<meta charset=\"utf-8\"/>\n",
       "<meta content=\"text/html; charset=utf-8\" http-equiv=\"Content-Type\"/>\n",
       "<meta content=\"IE=Edge\" http-equiv=\"X-UA-Compatible\"/>\n",
       "<meta content=\"noindex, nofollow\" name=\"robots\"/>\n",
       "<meta content=\"width=device-width,initial-scale=1\" name=\"viewport\"/>\n",
       "<link href=\"/cdn-cgi/styles/cf.errors.css\" id=\"cf_styles-css\" rel=\"stylesheet\"/>\n",
       "<!--[if lt IE 9]><link rel=\"stylesheet\" id='cf_styles-ie-css' href=\"/cdn-cgi/styles/cf.errors.ie.css\" /><![endif]-->\n",
       "<style>body{margin:0;padding:0}</style>\n",
       "<!--[if gte IE 10]><!-->\n",
       "<script>\n",
       "  if (!navigator.cookieEnabled) {\n",
       "    window.addEventListener('DOMContentLoaded', function () {\n",
       "      var cookieEl = document.getElementById('cookie-alert');\n",
       "      cookieEl.style.display = 'block';\n",
       "    })\n",
       "  }\n",
       "</script>\n",
       "<!--<![endif]-->\n",
       "<script>\n",
       "    //<![CDATA[\n",
       "    (function(){\n",
       "      window._cf_chl_opt={\n",
       "        cvId: \"2\",\n",
       "        cType: \"interactive\",\n",
       "        cNounce: \"5470\",\n",
       "        cRay: \"717bede13d696919\",\n",
       "        cHash: \"030f385a1fc0e5d\",\n",
       "        cUPMDTk: \"\\/bostad\\/lagenhet-3rum-jungfrudansen-solna-kommun-jungfrudansen-12-18482438?__cf_chl_tk=4kEUuvxvtND2NImp7CMJNghoPMtWqeG3jMW6teRCNiM-1654631557-0-gaNycGzNBz0\",\n",
       "        cFPWv: \"g\",\n",
       "        cTTimeMs: \"1000\",\n",
       "        cLt: \"n\",\n",
       "        cRq: {\n",
       "          ru: \"aHR0cHM6Ly93d3cuaGVtbmV0LnNlL2Jvc3RhZC9sYWdlbmhldC0zcnVtLWp1bmdmcnVkYW5zZW4tc29sbmEta29tbXVuLWp1bmdmcnVkYW5zZW4tMTItMTg0ODI0Mzg=\",\n",
       "          ra: \"cHl0aG9uLXJlcXVlc3RzLzIuMjcuMQ==\",\n",
       "          rm: \"R0VU\",\n",
       "          d: \"bgPO3aw0hQw56ULpIoTjIpL9knPG5KOn/8rjjQftGDr07Z7cVeJQLzWygjgVR2Dq5vJiV6Uq+rHcjTZQKNt4bGwYoZANF2MpD09zJ4YMmUA6PMeN06uJ2M5ch/7KQ/C8eVzt1w4nFEsZOqrIPlw4OlbCraavLU8TKrWfQ4yeSAVulMdH1JGBwJTT2E9hrnhSBxi4Nj64u0ChQfP3Mms+G1sq21r2dNBdBTIll21Wf9nmMBuspws+iNA9kC4McIn52tkNsdgzJHuQ8qpiUpLUv9Yb1yDO+ooArH9NM0ssyQu401sZ7fCr7orKDe1QOi0tSfAR26ALEu0Sy7WK9CbsRA2q1zF7F5WxmLAE5lzEw1xkYmKGSzpbyfC4bguKRVpB4JYXSXTtTG+yDTpcsxnWuW+GJ8p5l+KbRm1IjRa+YREiTXHXe4D/94JOzPk3uSYZaKpGBe+xB9e74YGllK4fYuc04iJKKh42TdltXBA2OIaaZGbkoRjPetUT9tyfdKdxTBMSDi/TNckJ4wOOmFQ0vSo7bC3kor/j5JrD3m05SeEQUDJC+Y6TaZ8kQLg6NbvDf4+8ssugr0+dGTCSagAX7+mnVUXEdkU5DeIIn3HqEpg=\",\n",
       "          t: \"MTY1NDYzMTU1Ny4zNjMwMDA=\",\n",
       "          m: \"WcpItYGyls5gfizrZDMUqETO5DvYciTg6zk3gDlW1sc=\",\n",
       "          i1: \"pU1Ic47xIN+yRSX1wZBQdw==\",\n",
       "          i2: \"PAC4IGJp44sIIWzHxHT/Ug==\",\n",
       "          zh: \"IcIuyAKPPCNRDzd6Gu5VvMEmQ/oFw7nKA3O4BPyPAQg=\",\n",
       "          uh: \"JNy/u1JaDY8l68+s834y37Qd6UIzTJLBzCkJPX4t/ps=\",\n",
       "          hh: \"07pbPdIBfblVA8qeS075ENMRZ23L/w0s/NOopNz+pno=\",\n",
       "        }\n",
       "      };\n",
       "    }());\n",
       "    //]]>\n",
       "    </script>\n",
       "<style>\n",
       "  #cf-wrapper #spinner {width:69px; margin:  auto;}\n",
       "  #cf-wrapper #cf-please-wait{text-align:center}\n",
       "  .attribution {margin-top: 32px;}\n",
       "  .bubbles { background-color: #f58220; width:20px; height: 20px; margin:2px; border-radius:100%; display:inline-block; }\n",
       "  #cf-wrapper #challenge-form { padding-top:25px; padding-bottom:25px; }\n",
       "  #cf-hcaptcha-container { text-align:center;}\n",
       "  #cf-hcaptcha-container iframe { display: inline-block;}\n",
       "  @keyframes fader     { 0% {opacity: 0.2;} 50% {opacity: 1.0;} 100% {opacity: 0.2;} }\n",
       "  #cf-wrapper #cf-bubbles { width:69px; }\n",
       "  @-webkit-keyframes fader { 0% {opacity: 0.2;} 50% {opacity: 1.0;} 100% {opacity: 0.2;} }\n",
       "  #cf-bubbles > .bubbles { animation: fader 1.6s infinite;}\n",
       "  #cf-bubbles > .bubbles:nth-child(2) { animation-delay: .2s;}\n",
       "  #cf-bubbles > .bubbles:nth-child(3) { animation-delay: .4s;}\n",
       "</style>\n",
       "</head>\n",
       "<body>\n",
       "<div id=\"cf-wrapper\">\n",
       "<div class=\"cf-alert cf-alert-error cf-cookie-error\" data-translate=\"enable_cookies\" id=\"cookie-alert\">Please enable cookies.</div>\n",
       "<div class=\"cf-error-details-wrapper\" id=\"cf-error-details\">\n",
       "<div class=\"cf-wrapper cf-header cf-error-overview\">\n",
       "<h1 data-translate=\"challenge_headline\">One more step</h1>\n",
       "<h2 class=\"cf-subheadline\"><span data-translate=\"complete_sec_check\">Please complete the security check to access</span> www.hemnet.se</h2>\n",
       "</div>\n",
       "<div class=\"cf-section cf-highlight cf-captcha-container\">\n",
       "<div class=\"cf-wrapper\">\n",
       "<div class=\"cf-columns two\">\n",
       "<div class=\"cf-column\">\n",
       "<div class=\"cf-highlight-inverse cf-form-stacked\">\n",
       "<form action=\"/bostad/lagenhet-3rum-jungfrudansen-solna-kommun-jungfrudansen-12-18482438?__cf_chl_f_tk=4kEUuvxvtND2NImp7CMJNghoPMtWqeG3jMW6teRCNiM-1654631557-0-gaNycGzNBz0\" class=\"challenge-form interactive-form\" enctype=\"application/x-www-form-urlencoded\" id=\"challenge-form\" method=\"POST\">\n",
       "<div id=\"cf-please-wait\">\n",
       "<div id=\"spinner\">\n",
       "<div id=\"cf-bubbles\">\n",
       "<div class=\"bubbles\"></div>\n",
       "<div class=\"bubbles\"></div>\n",
       "<div class=\"bubbles\"></div>\n",
       "</div>\n",
       "</div>\n",
       "<p data-translate=\"please_wait\" id=\"cf-spinner-please-wait\">Please stand by, while we are checking your browser...</p>\n",
       "<p data-translate=\"redirecting\" id=\"cf-spinner-redirecting\" style=\"display:none\">Redirecting...</p>\n",
       "</div>\n",
       "<input name=\"md\" type=\"hidden\" value=\"25lqTJWVYzbg3E6HBG9Z9uE01nIwy1fotOW0acgzL7Q-1654631557-0-Aemb7Ec_pqwBEv9oUQEOQ83xD-oM7BZsttOGNmP8rSMjix5iSxlVrqf3GF-WZecaLS0zXQjix1WuSi4DgPl8MImCbAAFLsEg6nxNkq6cF73G7sLta8323IT-VrpEH6WvyTjGEgXyEueozBwBwASXm_IhSgTEPg4X7US8bFZ--LXsT-awWwtyDCgY1gM1PMA5t3_Xw9emwsS_9Jpjy7ksfe5dqyUBeA57LkdW6bJWuu-V2qe-Ho0SdsY35i_DNofvgvP3bvR6FOkwFd84xuvO0qg96l3_2I6wwDThkKxPn_UtMOxxn9cyL_dL1og83LH54vaUUboct38Wcm4DtuLIM5L4H3ZdwMYLVKLH__yhd5UU9reOgRIIsaQWZZUUH5knqdLqGD2ifxdXKP-2cGtsJ24eksdJ-9oMeYpddMg4UGZfq9pRjMyadc3af5gX9N79Ph2I2YgdN53_XREcsQZygl7M_EjX0eujr2fOzrjHM8bNzWF0D6xcpV190NeqWFjfsFCN4Q1_13-WEnn24x_H3tyPYrAh4T4fisHDBR4jAggxltcwWwNk2-IZsL4MMlP5JvJuon9f94MR8No_OA9I9yKbaf-HTJHl6ENc8byh_BRpKrt5TkhkGrty2guwW-nXLO97potTsNncORfecPOdTPR0JXiKmSKWIOdjAjCtHrJPwnQqOmLE5Ef5r3BINEFJUmwVrtFtNFd3usODLEM06JX1bFRRqbGO6aBpcLSaZi_RH4m671jyjgzn6lof-WUZHHXczF3faRfXjweonIYsZAOFNy8-HuH6Zrch-zO5CqaiA1CYkr7S_mugtUeLrWaD45X3ONd6fZxrG2we3eSzGCyiO2zrec3vctJI4hSYZhjzJdaTi_d6HpKT0OuBaCBkrpzIw4SMOcQgz1PuI96W5UyJ8jDZfuJtK2UzU8fumsc1YiutC_99Uxr0DaAnpIH1Gb7iuEw-iwUh0vuktaHPCZm_6jrdP2GbHMwO3mFlhNtcrPBSSLkixkwo6H3jAzjpSA\"/>\n",
       "<input name=\"r\" type=\"hidden\" value=\"iJc2NwU3b2MyScNasHbZnZcX._KU3zXkjcPdoAobIYw-1654631557-0-AShObF1EFvd0bOmYx3eyK0+WoslnxKxdHANKIlWvjJaxI0OX7uEYWxh9VxHPLk0SHGWtQlZgFHahwbfc6jGSqiQ2wIRV2RWyCLuA/P9KeGILugKWBr47ZUIqV6nDRotHKHqxcvveTEXp7eIVb8vD0PQCp71RuoFvfXjH4Ccz+kyeOi5zYLSJYsK96o/x+VntbancGmWroQrzoUsccqR433rjQvSUas1k5geHJ2OvIykZOAFzUEYVAunoWoBDyW1NpYOw/MKRNai1KLU8ayRaqDTi3N6AFJGmxXIsqosj/X4n3IH4R96JRvRPqB105uVDjE8n5P2fmgTk8NBhYZwrI5YHGxTMS/kHdvXLGBWWJelyL1Zat9WpNYYmMJrEuuNQ8+nS00PnXDw4/jaT6+IDJJXusiPfQ1zSNgmToRbDaKNbdMWGSFjr4jb+0OlSAeqNLWpEtaaabhY+GD9YAo1QmKe+gTtbme/BOPG/GYJUGH6j5leT7g/nt6SnctQXALPm+Sx3vh9ui2JzINCBPN4LF36GbeakrW4hr3c/bcA5fNga+KlKmygHB8Hhjge8sntHE5d6KdTsM5XPQS1OMvBnb99y1qbFekX1qPBT/OZQB4+WvY/4ds8BOYTXOJZSkvX1Ty0xCpWGVXmzU61fO+w1RZA33PN+rjRzoNO61ygiq3/pRpvdqcbxT9mFHNta75GKKi8OqTsxM9AYiNcGCXCtyq6J5PVlZRrOee/09AHEHrrO4uQkthV/IWXMbdZag2yoZAScm01pKUyxIeQLG2L2aKfh+SlEGJNyYI8w8S8Hsyu1iXiMfs1kBS5iXNmTbXFFSjL4A0APINVJHGGh7sDp3NDwxkCqW+yRdONn2Mz/P/nNiu0fUPHaidYSgHcW5yDQ+RzZxRluAgO7LDW5ebyVpPFs0rJKWT38YxDaEAhQvCV6jaPByKfyJ4VS4dFFs85J7+XBFRvxYlI5Mn5mwEPbFJfjEUil0l8sSAFnrcDhnqyvXGAXE+X67iJdfd8Zu4p448vUwZJTk9qF52BbKYCQoRvJNrzQbSOG4xlx5K3YnJzzy1V3ahMeS1cccwqrqRsXonBupuL6IgPXQTpxqddDtZyb/9X1gBsA1ShuXiBCOz3Z/vPysk4KyJbF6KtMImXlLznZeJHNlm61l7tgMkuwHZ1MjF0WT7kC1Q5e1m1cQnJsrDN1S4d9sxbYCENm5beQS1J7ljoRqkauvBJQcxegrXb8w3ESUOqJxd+tvzy44BXBVMRLsGdxp2vkCVvjsJ8EAbO5sNttwKHaYvKJPs/mOzoljWH3baSgPzzfQM0VlIPwbz4p2trtYh6wHvlf7a81p1G/POEM5nQ5zvaFhcetFg+yLeC0ikFITFdFOhs73URX96BR8XAiquh4/5WhJzC53JMlalLaAmMxe1NifWJtH3VxHgEYs+ohGRcyIKUZgmpLiznE+MrkdaDAlAPdbTGxBUtvqmYfYhOuh8S5Tpw/90QPnVLB+KqsnLnvHPZZCgvacvVrjtAUXZxXqRt5eJ+Ic6ZdB+nx7sTa0U+U3nxyLSK39E2X5on5kG5RcTjvSYo+SRRjZ8SnuSoQNJhF5k663tgSt4URhpfM3/qtfNx6KB6LpeP+782z8LOZ9YABEo5qdBzMqAsAff/bztnUye+KnYtlTCj2hCEd4NhYJ2iIqGeBhbh0FJjv0vDZUumFA6tXT6bA2NmkmFsN6YQczyLjFLO3hpmARwfGACI6mB3OF4fhktyhittkegBlFfX+jTv0H9mGb2cD8j0ulfG1xCpsVA==\"/>\n",
       "<input name=\"vc\" type=\"hidden\" value=\"4f6fb6b96dfc9c752e346a39ac735cb9\"/>\n",
       "<noscript class=\"cf-captcha-info\" id=\"cf-captcha-bookmark\">\n",
       "<h1 data-translate=\"turn_on_js\" style=\"color:#bd2426;\">Please turn JavaScript on and reload the page.</h1>\n",
       "</noscript>\n",
       "<div class=\"cookie-warning\" data-translate=\"turn_on_cookies\" id=\"no-cookie-warning\" style=\"display:none\">\n",
       "<p data-translate=\"turn_on_cookies\" style=\"color:#bd2426;\">Please enable Cookies and reload the page.</p>\n",
       "</div>\n",
       "<script>\n",
       "  //<![CDATA[\n",
       "    var a = function() {try{return !!window.addEventListener} catch(e) {return !1} },\n",
       "      b = function(b, c) {a() ? document.addEventListener(\"DOMContentLoaded\", b, c) : document.attachEvent(\"onreadystatechange\", b)};\n",
       "      b(function(){\n",
       "        var cookiesEnabled=(navigator.cookieEnabled)? true : false;\n",
       "        if(!cookiesEnabled){\n",
       "          var q = document.getElementById('no-cookie-warning');q.style.display = 'block';\n",
       "        }\n",
       "      });\n",
       "  //]]>\n",
       "  </script>\n",
       "<div id=\"trk_captcha_js\" style=\"background-image:url('/cdn-cgi/images/trace/captcha/nojs/h/transparent.gif?ray=717bede13d696919')\"></div>\n",
       "</form>\n",
       "<script>\n",
       "    //<![CDATA[\n",
       "    (function(){\n",
       "        var isIE = /(MSIE|Trident\\/|Edge\\/)/i.test(window.navigator.userAgent);\n",
       "        var trkjs = isIE ? new Image() : document.createElement('img');\n",
       "        trkjs.setAttribute(\"src\", \"/cdn-cgi/images/trace/captcha/js/transparent.gif?ray=717bede13d696919\");\n",
       "        trkjs.id = \"trk_captcha_js\";\n",
       "        trkjs.setAttribute(\"alt\", \"\");\n",
       "        document.body.appendChild(trkjs);\n",
       "        var cpo=document.createElement('script');\n",
       "        cpo.type='text/javascript';\n",
       "        cpo.src=\"/cdn-cgi/challenge-platform/h/g/orchestrate/captcha/v1?ray=717bede13d696919\";\n",
       "        \n",
       "        window._cf_chl_opt.cOgUHash = location.hash === '' && location.href.indexOf('#') !== -1 ? '#' : location.hash;\n",
       "        window._cf_chl_opt.cOgUQuery = location.search === '' && location.href.slice(0, -window._cf_chl_opt.cOgUHash.length).indexOf('?') !== -1 ? '?' : location.search;\n",
       "        if (window._cf_chl_opt.cUPMDTk && window.history && window.history.replaceState) {\n",
       "          var ogU = location.pathname + window._cf_chl_opt.cOgUQuery + window._cf_chl_opt.cOgUHash;\n",
       "          history.replaceState(null, null, \"\\/bostad\\/lagenhet-3rum-jungfrudansen-solna-kommun-jungfrudansen-12-18482438?__cf_chl_rt_tk=4kEUuvxvtND2NImp7CMJNghoPMtWqeG3jMW6teRCNiM-1654631557-0-gaNycGzNBz0\" + window._cf_chl_opt.cOgUHash);\n",
       "          cpo.onload = function() {\n",
       "            history.replaceState(null, null, ogU);\n",
       "          };\n",
       "        }\n",
       "        \n",
       "        document.getElementsByTagName('head')[0].appendChild(cpo);\n",
       "    }());\n",
       "    //]]>\n",
       "    </script>\n",
       "</div>\n",
       "</div>\n",
       "<div class=\"cf-column\">\n",
       "<div class=\"cf-screenshot-container\">\n",
       "<span class=\"cf-no-screenshot\"></span>\n",
       "</div>\n",
       "</div>\n",
       "</div>\n",
       "</div>\n",
       "</div>\n",
       "<div class=\"cf-section cf-wrapper\">\n",
       "<div class=\"cf-columns two\">\n",
       "<div class=\"cf-column\">\n",
       "<h2 data-translate=\"why_captcha_headline\">Why do I have to complete a CAPTCHA?</h2>\n",
       "<p data-translate=\"why_captcha_detail\">Completing the CAPTCHA proves you are a human and gives you temporary access to the web property.</p>\n",
       "</div>\n",
       "<div class=\"cf-column\">\n",
       "<h2 data-translate=\"resolve_captcha_headline\">What can I do to prevent this in the future?</h2>\n",
       "<p data-translate=\"resolve_captcha_antivirus\">If you are on a personal connection, like at home, you can run an anti-virus scan on your device to make sure it is not infected with malware.</p>\n",
       "<p data-translate=\"resolve_captcha_network\">If you are at an office or shared network, you can ask the network administrator to run a scan across the network looking for misconfigured or infected devices.</p>\n",
       "</div>\n",
       "</div>\n",
       "</div>\n",
       "<div class=\"cf-error-footer cf-wrapper w-240 lg:w-full py-10 sm:py-4 sm:px-8 mx-auto text-center sm:text-left border-solid border-0 border-t border-gray-300\">\n",
       "<p class=\"text-13\">\n",
       "<span class=\"cf-footer-item sm:block sm:mb-1\">Cloudflare Ray ID: <strong class=\"font-semibold\">717bede13d696919</strong></span>\n",
       "<span class=\"cf-footer-separator sm:hidden\">•</span>\n",
       "<span class=\"cf-footer-item sm:block sm:mb-1\"><span>Your IP</span>: 185.219.140.120</span>\n",
       "<span class=\"cf-footer-separator sm:hidden\">•</span>\n",
       "<span class=\"cf-footer-item sm:block sm:mb-1\"><span>Performance &amp; security by</span> <a href=\"https://www.cloudflare.com/5xx-error-landing\" id=\"brand_link\" rel=\"noopener noreferrer\" target=\"_blank\">Cloudflare</a></span>\n",
       "</p>\n",
       "</div><!-- /.error-footer -->\n",
       "</div>\n",
       "</div>\n",
       "<script>\n",
       "  window._cf_translation = {};\n",
       "  \n",
       "  \n",
       "</script>\n",
       "</body>\n",
       "</html>"
      ]
     },
     "execution_count": 11,
     "metadata": {},
     "output_type": "execute_result"
    }
   ],
   "source": [
    "jungfrudansen12_soup"
   ]
  },
  {
   "cell_type": "code",
   "execution_count": 8,
   "id": "476560bc",
   "metadata": {},
   "outputs": [
    {
     "data": {
      "text/plain": [
       "'<!DOCTYPE html>\\n<!--[if lt IE 7]> <html class=\"no-js ie6 oldie\" lang=\"en-US\"> <![endif]-->\\n<!--[if IE 7]>    <html class=\"no-js ie7 oldie\" lang=\"en-US\"> <![endif]-->\\n<!--[if IE 8]>    <html class=\"no-js ie8 oldie\" lang=\"en-US\"> <![endif]-->\\n<!--[if gt IE 8]><!-->\\n<html class=\"no-js\" lang=\"en-US\">\\n <!--<![endif]-->\\n <head>\\n  <title>\\n   Attention Required! | Cloudflare\\n  </title>\\n  <meta charset=\"utf-8\"/>\\n  <meta content=\"text/html; charset=utf-8\" http-equiv=\"Content-Type\"/>\\n  <meta content=\"IE=Edge\" http-equiv=\"X-UA-Compatible\"/>\\n  <meta content=\"noindex, nofollow\" name=\"robots\"/>\\n  <meta content=\"width=device-width,initial-scale=1\" name=\"viewport\"/>\\n  <link href=\"/cdn-cgi/styles/cf.errors.css\" id=\"cf_styles-css\" rel=\"stylesheet\"/>\\n  <!--[if lt IE 9]><link rel=\"stylesheet\" id=\\'cf_styles-ie-css\\' href=\"/cdn-cgi/styles/cf.errors.ie.css\" /><![endif]-->\\n  <style>\\n   body{margin:0;padding:0}\\n  </style>\\n  <!--[if gte IE 10]><!-->\\n  <script>\\n   if (!navigator.cookieEnabled) {\\n    window.addEventListener(\\'DOMContentLoaded\\', function () {\\n      var cookieEl = document.getElementById(\\'cookie-alert\\');\\n      cookieEl.style.display = \\'block\\';\\n    })\\n  }\\n  </script>\\n  <!--<![endif]-->\\n  <script>\\n   //<![CDATA[\\n    (function(){\\n      window._cf_chl_opt={\\n        cvId: \"2\",\\n        cType: \"interactive\",\\n        cNounce: \"5470\",\\n        cRay: \"717bede13d696919\",\\n        cHash: \"030f385a1fc0e5d\",\\n        cUPMDTk: \"\\\\/bostad\\\\/lagenhet-3rum-jungfrudansen-solna-kommun-jungfrudansen-12-18482438?__cf_chl_tk=4kEUuvxvtND2NImp7CMJNghoPMtWqeG3jMW6teRCNiM-1654631557-0-gaNycGzNBz0\",\\n        cFPWv: \"g\",\\n        cTTimeMs: \"1000\",\\n        cLt: \"n\",\\n        cRq: {\\n          ru: \"aHR0cHM6Ly93d3cuaGVtbmV0LnNlL2Jvc3RhZC9sYWdlbmhldC0zcnVtLWp1bmdmcnVkYW5zZW4tc29sbmEta29tbXVuLWp1bmdmcnVkYW5zZW4tMTItMTg0ODI0Mzg=\",\\n          ra: \"cHl0aG9uLXJlcXVlc3RzLzIuMjcuMQ==\",\\n          rm: \"R0VU\",\\n          d: \"bgPO3aw0hQw56ULpIoTjIpL9knPG5KOn/8rjjQftGDr07Z7cVeJQLzWygjgVR2Dq5vJiV6Uq+rHcjTZQKNt4bGwYoZANF2MpD09zJ4YMmUA6PMeN06uJ2M5ch/7KQ/C8eVzt1w4nFEsZOqrIPlw4OlbCraavLU8TKrWfQ4yeSAVulMdH1JGBwJTT2E9hrnhSBxi4Nj64u0ChQfP3Mms+G1sq21r2dNBdBTIll21Wf9nmMBuspws+iNA9kC4McIn52tkNsdgzJHuQ8qpiUpLUv9Yb1yDO+ooArH9NM0ssyQu401sZ7fCr7orKDe1QOi0tSfAR26ALEu0Sy7WK9CbsRA2q1zF7F5WxmLAE5lzEw1xkYmKGSzpbyfC4bguKRVpB4JYXSXTtTG+yDTpcsxnWuW+GJ8p5l+KbRm1IjRa+YREiTXHXe4D/94JOzPk3uSYZaKpGBe+xB9e74YGllK4fYuc04iJKKh42TdltXBA2OIaaZGbkoRjPetUT9tyfdKdxTBMSDi/TNckJ4wOOmFQ0vSo7bC3kor/j5JrD3m05SeEQUDJC+Y6TaZ8kQLg6NbvDf4+8ssugr0+dGTCSagAX7+mnVUXEdkU5DeIIn3HqEpg=\",\\n          t: \"MTY1NDYzMTU1Ny4zNjMwMDA=\",\\n          m: \"WcpItYGyls5gfizrZDMUqETO5DvYciTg6zk3gDlW1sc=\",\\n          i1: \"pU1Ic47xIN+yRSX1wZBQdw==\",\\n          i2: \"PAC4IGJp44sIIWzHxHT/Ug==\",\\n          zh: \"IcIuyAKPPCNRDzd6Gu5VvMEmQ/oFw7nKA3O4BPyPAQg=\",\\n          uh: \"JNy/u1JaDY8l68+s834y37Qd6UIzTJLBzCkJPX4t/ps=\",\\n          hh: \"07pbPdIBfblVA8qeS075ENMRZ23L/w0s/NOopNz+pno=\",\\n        }\\n      };\\n    }());\\n    //]]>\\n  </script>\\n  <style>\\n   #cf-wrapper #spinner {width:69px; margin:  auto;}\\n  #cf-wrapper #cf-please-wait{text-align:center}\\n  .attribution {margin-top: 32px;}\\n  .bubbles { background-color: #f58220; width:20px; height: 20px; margin:2px; border-radius:100%; display:inline-block; }\\n  #cf-wrapper #challenge-form { padding-top:25px; padding-bottom:25px; }\\n  #cf-hcaptcha-container { text-align:center;}\\n  #cf-hcaptcha-container iframe { display: inline-block;}\\n  @keyframes fader     { 0% {opacity: 0.2;} 50% {opacity: 1.0;} 100% {opacity: 0.2;} }\\n  #cf-wrapper #cf-bubbles { width:69px; }\\n  @-webkit-keyframes fader { 0% {opacity: 0.2;} 50% {opacity: 1.0;} 100% {opacity: 0.2;} }\\n  #cf-bubbles > .bubbles { animation: fader 1.6s infinite;}\\n  #cf-bubbles > .bubbles:nth-child(2) { animation-delay: .2s;}\\n  #cf-bubbles > .bubbles:nth-child(3) { animation-delay: .4s;}\\n  </style>\\n </head>\\n <body>\\n  <div id=\"cf-wrapper\">\\n   <div class=\"cf-alert cf-alert-error cf-cookie-error\" data-translate=\"enable_cookies\" id=\"cookie-alert\">\\n    Please enable cookies.\\n   </div>\\n   <div class=\"cf-error-details-wrapper\" id=\"cf-error-details\">\\n    <div class=\"cf-wrapper cf-header cf-error-overview\">\\n     <h1 data-translate=\"challenge_headline\">\\n      One more step\\n     </h1>\\n     <h2 class=\"cf-subheadline\">\\n      <span data-translate=\"complete_sec_check\">\\n       Please complete the security check to access\\n      </span>\\n      www.hemnet.se\\n     </h2>\\n    </div>\\n    <div class=\"cf-section cf-highlight cf-captcha-container\">\\n     <div class=\"cf-wrapper\">\\n      <div class=\"cf-columns two\">\\n       <div class=\"cf-column\">\\n        <div class=\"cf-highlight-inverse cf-form-stacked\">\\n         <form action=\"/bostad/lagenhet-3rum-jungfrudansen-solna-kommun-jungfrudansen-12-18482438?__cf_chl_f_tk=4kEUuvxvtND2NImp7CMJNghoPMtWqeG3jMW6teRCNiM-1654631557-0-gaNycGzNBz0\" class=\"challenge-form interactive-form\" enctype=\"application/x-www-form-urlencoded\" id=\"challenge-form\" method=\"POST\">\\n          <div id=\"cf-please-wait\">\\n           <div id=\"spinner\">\\n            <div id=\"cf-bubbles\">\\n             <div class=\"bubbles\">\\n             </div>\\n             <div class=\"bubbles\">\\n             </div>\\n             <div class=\"bubbles\">\\n             </div>\\n            </div>\\n           </div>\\n           <p data-translate=\"please_wait\" id=\"cf-spinner-please-wait\">\\n            Please stand by, while we are checking your browser...\\n           </p>\\n           <p data-translate=\"redirecting\" id=\"cf-spinner-redirecting\" style=\"display:none\">\\n            Redirecting...\\n           </p>\\n          </div>\\n          <input name=\"md\" type=\"hidden\" value=\"25lqTJWVYzbg3E6HBG9Z9uE01nIwy1fotOW0acgzL7Q-1654631557-0-Aemb7Ec_pqwBEv9oUQEOQ83xD-oM7BZsttOGNmP8rSMjix5iSxlVrqf3GF-WZecaLS0zXQjix1WuSi4DgPl8MImCbAAFLsEg6nxNkq6cF73G7sLta8323IT-VrpEH6WvyTjGEgXyEueozBwBwASXm_IhSgTEPg4X7US8bFZ--LXsT-awWwtyDCgY1gM1PMA5t3_Xw9emwsS_9Jpjy7ksfe5dqyUBeA57LkdW6bJWuu-V2qe-Ho0SdsY35i_DNofvgvP3bvR6FOkwFd84xuvO0qg96l3_2I6wwDThkKxPn_UtMOxxn9cyL_dL1og83LH54vaUUboct38Wcm4DtuLIM5L4H3ZdwMYLVKLH__yhd5UU9reOgRIIsaQWZZUUH5knqdLqGD2ifxdXKP-2cGtsJ24eksdJ-9oMeYpddMg4UGZfq9pRjMyadc3af5gX9N79Ph2I2YgdN53_XREcsQZygl7M_EjX0eujr2fOzrjHM8bNzWF0D6xcpV190NeqWFjfsFCN4Q1_13-WEnn24x_H3tyPYrAh4T4fisHDBR4jAggxltcwWwNk2-IZsL4MMlP5JvJuon9f94MR8No_OA9I9yKbaf-HTJHl6ENc8byh_BRpKrt5TkhkGrty2guwW-nXLO97potTsNncORfecPOdTPR0JXiKmSKWIOdjAjCtHrJPwnQqOmLE5Ef5r3BINEFJUmwVrtFtNFd3usODLEM06JX1bFRRqbGO6aBpcLSaZi_RH4m671jyjgzn6lof-WUZHHXczF3faRfXjweonIYsZAOFNy8-HuH6Zrch-zO5CqaiA1CYkr7S_mugtUeLrWaD45X3ONd6fZxrG2we3eSzGCyiO2zrec3vctJI4hSYZhjzJdaTi_d6HpKT0OuBaCBkrpzIw4SMOcQgz1PuI96W5UyJ8jDZfuJtK2UzU8fumsc1YiutC_99Uxr0DaAnpIH1Gb7iuEw-iwUh0vuktaHPCZm_6jrdP2GbHMwO3mFlhNtcrPBSSLkixkwo6H3jAzjpSA\"/>\\n          <input name=\"r\" type=\"hidden\" value=\"iJc2NwU3b2MyScNasHbZnZcX._KU3zXkjcPdoAobIYw-1654631557-0-AShObF1EFvd0bOmYx3eyK0+WoslnxKxdHANKIlWvjJaxI0OX7uEYWxh9VxHPLk0SHGWtQlZgFHahwbfc6jGSqiQ2wIRV2RWyCLuA/P9KeGILugKWBr47ZUIqV6nDRotHKHqxcvveTEXp7eIVb8vD0PQCp71RuoFvfXjH4Ccz+kyeOi5zYLSJYsK96o/x+VntbancGmWroQrzoUsccqR433rjQvSUas1k5geHJ2OvIykZOAFzUEYVAunoWoBDyW1NpYOw/MKRNai1KLU8ayRaqDTi3N6AFJGmxXIsqosj/X4n3IH4R96JRvRPqB105uVDjE8n5P2fmgTk8NBhYZwrI5YHGxTMS/kHdvXLGBWWJelyL1Zat9WpNYYmMJrEuuNQ8+nS00PnXDw4/jaT6+IDJJXusiPfQ1zSNgmToRbDaKNbdMWGSFjr4jb+0OlSAeqNLWpEtaaabhY+GD9YAo1QmKe+gTtbme/BOPG/GYJUGH6j5leT7g/nt6SnctQXALPm+Sx3vh9ui2JzINCBPN4LF36GbeakrW4hr3c/bcA5fNga+KlKmygHB8Hhjge8sntHE5d6KdTsM5XPQS1OMvBnb99y1qbFekX1qPBT/OZQB4+WvY/4ds8BOYTXOJZSkvX1Ty0xCpWGVXmzU61fO+w1RZA33PN+rjRzoNO61ygiq3/pRpvdqcbxT9mFHNta75GKKi8OqTsxM9AYiNcGCXCtyq6J5PVlZRrOee/09AHEHrrO4uQkthV/IWXMbdZag2yoZAScm01pKUyxIeQLG2L2aKfh+SlEGJNyYI8w8S8Hsyu1iXiMfs1kBS5iXNmTbXFFSjL4A0APINVJHGGh7sDp3NDwxkCqW+yRdONn2Mz/P/nNiu0fUPHaidYSgHcW5yDQ+RzZxRluAgO7LDW5ebyVpPFs0rJKWT38YxDaEAhQvCV6jaPByKfyJ4VS4dFFs85J7+XBFRvxYlI5Mn5mwEPbFJfjEUil0l8sSAFnrcDhnqyvXGAXE+X67iJdfd8Zu4p448vUwZJTk9qF52BbKYCQoRvJNrzQbSOG4xlx5K3YnJzzy1V3ahMeS1cccwqrqRsXonBupuL6IgPXQTpxqddDtZyb/9X1gBsA1ShuXiBCOz3Z/vPysk4KyJbF6KtMImXlLznZeJHNlm61l7tgMkuwHZ1MjF0WT7kC1Q5e1m1cQnJsrDN1S4d9sxbYCENm5beQS1J7ljoRqkauvBJQcxegrXb8w3ESUOqJxd+tvzy44BXBVMRLsGdxp2vkCVvjsJ8EAbO5sNttwKHaYvKJPs/mOzoljWH3baSgPzzfQM0VlIPwbz4p2trtYh6wHvlf7a81p1G/POEM5nQ5zvaFhcetFg+yLeC0ikFITFdFOhs73URX96BR8XAiquh4/5WhJzC53JMlalLaAmMxe1NifWJtH3VxHgEYs+ohGRcyIKUZgmpLiznE+MrkdaDAlAPdbTGxBUtvqmYfYhOuh8S5Tpw/90QPnVLB+KqsnLnvHPZZCgvacvVrjtAUXZxXqRt5eJ+Ic6ZdB+nx7sTa0U+U3nxyLSK39E2X5on5kG5RcTjvSYo+SRRjZ8SnuSoQNJhF5k663tgSt4URhpfM3/qtfNx6KB6LpeP+782z8LOZ9YABEo5qdBzMqAsAff/bztnUye+KnYtlTCj2hCEd4NhYJ2iIqGeBhbh0FJjv0vDZUumFA6tXT6bA2NmkmFsN6YQczyLjFLO3hpmARwfGACI6mB3OF4fhktyhittkegBlFfX+jTv0H9mGb2cD8j0ulfG1xCpsVA==\"/>\\n          <input name=\"vc\" type=\"hidden\" value=\"4f6fb6b96dfc9c752e346a39ac735cb9\"/>\\n          <noscript class=\"cf-captcha-info\" id=\"cf-captcha-bookmark\">\\n           <h1 data-translate=\"turn_on_js\" style=\"color:#bd2426;\">\\n            Please turn JavaScript on and reload the page.\\n           </h1>\\n          </noscript>\\n          <div class=\"cookie-warning\" data-translate=\"turn_on_cookies\" id=\"no-cookie-warning\" style=\"display:none\">\\n           <p data-translate=\"turn_on_cookies\" style=\"color:#bd2426;\">\\n            Please enable Cookies and reload the page.\\n           </p>\\n          </div>\\n          <script>\\n           //<![CDATA[\\n    var a = function() {try{return !!window.addEventListener} catch(e) {return !1} },\\n      b = function(b, c) {a() ? document.addEventListener(\"DOMContentLoaded\", b, c) : document.attachEvent(\"onreadystatechange\", b)};\\n      b(function(){\\n        var cookiesEnabled=(navigator.cookieEnabled)? true : false;\\n        if(!cookiesEnabled){\\n          var q = document.getElementById(\\'no-cookie-warning\\');q.style.display = \\'block\\';\\n        }\\n      });\\n  //]]>\\n          </script>\\n          <div id=\"trk_captcha_js\" style=\"background-image:url(\\'/cdn-cgi/images/trace/captcha/nojs/h/transparent.gif?ray=717bede13d696919\\')\">\\n          </div>\\n         </form>\\n         <script>\\n          //<![CDATA[\\n    (function(){\\n        var isIE = /(MSIE|Trident\\\\/|Edge\\\\/)/i.test(window.navigator.userAgent);\\n        var trkjs = isIE ? new Image() : document.createElement(\\'img\\');\\n        trkjs.setAttribute(\"src\", \"/cdn-cgi/images/trace/captcha/js/transparent.gif?ray=717bede13d696919\");\\n        trkjs.id = \"trk_captcha_js\";\\n        trkjs.setAttribute(\"alt\", \"\");\\n        document.body.appendChild(trkjs);\\n        var cpo=document.createElement(\\'script\\');\\n        cpo.type=\\'text/javascript\\';\\n        cpo.src=\"/cdn-cgi/challenge-platform/h/g/orchestrate/captcha/v1?ray=717bede13d696919\";\\n        \\n        window._cf_chl_opt.cOgUHash = location.hash === \\'\\' && location.href.indexOf(\\'#\\') !== -1 ? \\'#\\' : location.hash;\\n        window._cf_chl_opt.cOgUQuery = location.search === \\'\\' && location.href.slice(0, -window._cf_chl_opt.cOgUHash.length).indexOf(\\'?\\') !== -1 ? \\'?\\' : location.search;\\n        if (window._cf_chl_opt.cUPMDTk && window.history && window.history.replaceState) {\\n          var ogU = location.pathname + window._cf_chl_opt.cOgUQuery + window._cf_chl_opt.cOgUHash;\\n          history.replaceState(null, null, \"\\\\/bostad\\\\/lagenhet-3rum-jungfrudansen-solna-kommun-jungfrudansen-12-18482438?__cf_chl_rt_tk=4kEUuvxvtND2NImp7CMJNghoPMtWqeG3jMW6teRCNiM-1654631557-0-gaNycGzNBz0\" + window._cf_chl_opt.cOgUHash);\\n          cpo.onload = function() {\\n            history.replaceState(null, null, ogU);\\n          };\\n        }\\n        \\n        document.getElementsByTagName(\\'head\\')[0].appendChild(cpo);\\n    }());\\n    //]]>\\n         </script>\\n        </div>\\n       </div>\\n       <div class=\"cf-column\">\\n        <div class=\"cf-screenshot-container\">\\n         <span class=\"cf-no-screenshot\">\\n         </span>\\n        </div>\\n       </div>\\n      </div>\\n     </div>\\n    </div>\\n    <div class=\"cf-section cf-wrapper\">\\n     <div class=\"cf-columns two\">\\n      <div class=\"cf-column\">\\n       <h2 data-translate=\"why_captcha_headline\">\\n        Why do I have to complete a CAPTCHA?\\n       </h2>\\n       <p data-translate=\"why_captcha_detail\">\\n        Completing the CAPTCHA proves you are a human and gives you temporary access to the web property.\\n       </p>\\n      </div>\\n      <div class=\"cf-column\">\\n       <h2 data-translate=\"resolve_captcha_headline\">\\n        What can I do to prevent this in the future?\\n       </h2>\\n       <p data-translate=\"resolve_captcha_antivirus\">\\n        If you are on a personal connection, like at home, you can run an anti-virus scan on your device to make sure it is not infected with malware.\\n       </p>\\n       <p data-translate=\"resolve_captcha_network\">\\n        If you are at an office or shared network, you can ask the network administrator to run a scan across the network looking for misconfigured or infected devices.\\n       </p>\\n      </div>\\n     </div>\\n    </div>\\n    <div class=\"cf-error-footer cf-wrapper w-240 lg:w-full py-10 sm:py-4 sm:px-8 mx-auto text-center sm:text-left border-solid border-0 border-t border-gray-300\">\\n     <p class=\"text-13\">\\n      <span class=\"cf-footer-item sm:block sm:mb-1\">\\n       Cloudflare Ray ID:\\n       <strong class=\"font-semibold\">\\n        717bede13d696919\\n       </strong>\\n      </span>\\n      <span class=\"cf-footer-separator sm:hidden\">\\n       •\\n      </span>\\n      <span class=\"cf-footer-item sm:block sm:mb-1\">\\n       <span>\\n        Your IP\\n       </span>\\n       : 185.219.140.120\\n      </span>\\n      <span class=\"cf-footer-separator sm:hidden\">\\n       •\\n      </span>\\n      <span class=\"cf-footer-item sm:block sm:mb-1\">\\n       <span>\\n        Performance &amp; security by\\n       </span>\\n       <a href=\"https://www.cloudflare.com/5xx-error-landing\" id=\"brand_link\" rel=\"noopener noreferrer\" target=\"_blank\">\\n        Cloudflare\\n       </a>\\n      </span>\\n     </p>\\n    </div>\\n    <!-- /.error-footer -->\\n   </div>\\n  </div>\\n  <script>\\n   window._cf_translation = {};\\n  </script>\\n </body>\\n</html>\\n'"
      ]
     },
     "execution_count": 8,
     "metadata": {},
     "output_type": "execute_result"
    }
   ],
   "source": [
    "jungfrudansen12_soup.prettify()"
   ]
  },
  {
   "cell_type": "code",
   "execution_count": null,
   "id": "686c6ffa",
   "metadata": {},
   "outputs": [],
   "source": []
  },
  {
   "cell_type": "code",
   "execution_count": 12,
   "id": "ad75bd34",
   "metadata": {},
   "outputs": [
    {
     "data": {
      "text/plain": [
       "<title>Attention Required! | Cloudflare</title>"
      ]
     },
     "execution_count": 12,
     "metadata": {},
     "output_type": "execute_result"
    }
   ],
   "source": [
    "jungfrudansen12_soup.title"
   ]
  },
  {
   "cell_type": "code",
   "execution_count": 14,
   "id": "e2011a6b",
   "metadata": {},
   "outputs": [
    {
     "data": {
      "text/plain": [
       "<title>Attention Required! | Cloudflare</title>"
      ]
     },
     "execution_count": 14,
     "metadata": {},
     "output_type": "execute_result"
    }
   ],
   "source": [
    "jungfrudansen12_soup.find(\"title\")"
   ]
  },
  {
   "cell_type": "code",
   "execution_count": 17,
   "id": "efab79ea",
   "metadata": {},
   "outputs": [
    {
     "data": {
      "text/plain": [
       "[<title>Attention Required! | Cloudflare</title>]"
      ]
     },
     "execution_count": 17,
     "metadata": {},
     "output_type": "execute_result"
    }
   ],
   "source": [
    "jungfrudansen12_soup.find_all(\"title\")"
   ]
  },
  {
   "cell_type": "code",
   "execution_count": 18,
   "id": "6d5c510d",
   "metadata": {},
   "outputs": [
    {
     "data": {
      "text/plain": [
       "'Attention Required! | Cloudflare'"
      ]
     },
     "execution_count": 18,
     "metadata": {},
     "output_type": "execute_result"
    }
   ],
   "source": [
    "jungfrudansen12_soup.find(\"title\").text"
   ]
  },
  {
   "cell_type": "code",
   "execution_count": null,
   "id": "bb68b08d",
   "metadata": {},
   "outputs": [],
   "source": []
  },
  {
   "cell_type": "code",
   "execution_count": 19,
   "id": "81ed0728",
   "metadata": {},
   "outputs": [
    {
     "data": {
      "text/plain": [
       "<div id=\"cf-wrapper\">\n",
       "<div class=\"cf-alert cf-alert-error cf-cookie-error\" data-translate=\"enable_cookies\" id=\"cookie-alert\">Please enable cookies.</div>\n",
       "<div class=\"cf-error-details-wrapper\" id=\"cf-error-details\">\n",
       "<div class=\"cf-wrapper cf-header cf-error-overview\">\n",
       "<h1 data-translate=\"challenge_headline\">One more step</h1>\n",
       "<h2 class=\"cf-subheadline\"><span data-translate=\"complete_sec_check\">Please complete the security check to access</span> www.hemnet.se</h2>\n",
       "</div>\n",
       "<div class=\"cf-section cf-highlight cf-captcha-container\">\n",
       "<div class=\"cf-wrapper\">\n",
       "<div class=\"cf-columns two\">\n",
       "<div class=\"cf-column\">\n",
       "<div class=\"cf-highlight-inverse cf-form-stacked\">\n",
       "<form action=\"/bostad/lagenhet-3rum-jungfrudansen-solna-kommun-jungfrudansen-12-18482438?__cf_chl_f_tk=4kEUuvxvtND2NImp7CMJNghoPMtWqeG3jMW6teRCNiM-1654631557-0-gaNycGzNBz0\" class=\"challenge-form interactive-form\" enctype=\"application/x-www-form-urlencoded\" id=\"challenge-form\" method=\"POST\">\n",
       "<div id=\"cf-please-wait\">\n",
       "<div id=\"spinner\">\n",
       "<div id=\"cf-bubbles\">\n",
       "<div class=\"bubbles\"></div>\n",
       "<div class=\"bubbles\"></div>\n",
       "<div class=\"bubbles\"></div>\n",
       "</div>\n",
       "</div>\n",
       "<p data-translate=\"please_wait\" id=\"cf-spinner-please-wait\">Please stand by, while we are checking your browser...</p>\n",
       "<p data-translate=\"redirecting\" id=\"cf-spinner-redirecting\" style=\"display:none\">Redirecting...</p>\n",
       "</div>\n",
       "<input name=\"md\" type=\"hidden\" value=\"25lqTJWVYzbg3E6HBG9Z9uE01nIwy1fotOW0acgzL7Q-1654631557-0-Aemb7Ec_pqwBEv9oUQEOQ83xD-oM7BZsttOGNmP8rSMjix5iSxlVrqf3GF-WZecaLS0zXQjix1WuSi4DgPl8MImCbAAFLsEg6nxNkq6cF73G7sLta8323IT-VrpEH6WvyTjGEgXyEueozBwBwASXm_IhSgTEPg4X7US8bFZ--LXsT-awWwtyDCgY1gM1PMA5t3_Xw9emwsS_9Jpjy7ksfe5dqyUBeA57LkdW6bJWuu-V2qe-Ho0SdsY35i_DNofvgvP3bvR6FOkwFd84xuvO0qg96l3_2I6wwDThkKxPn_UtMOxxn9cyL_dL1og83LH54vaUUboct38Wcm4DtuLIM5L4H3ZdwMYLVKLH__yhd5UU9reOgRIIsaQWZZUUH5knqdLqGD2ifxdXKP-2cGtsJ24eksdJ-9oMeYpddMg4UGZfq9pRjMyadc3af5gX9N79Ph2I2YgdN53_XREcsQZygl7M_EjX0eujr2fOzrjHM8bNzWF0D6xcpV190NeqWFjfsFCN4Q1_13-WEnn24x_H3tyPYrAh4T4fisHDBR4jAggxltcwWwNk2-IZsL4MMlP5JvJuon9f94MR8No_OA9I9yKbaf-HTJHl6ENc8byh_BRpKrt5TkhkGrty2guwW-nXLO97potTsNncORfecPOdTPR0JXiKmSKWIOdjAjCtHrJPwnQqOmLE5Ef5r3BINEFJUmwVrtFtNFd3usODLEM06JX1bFRRqbGO6aBpcLSaZi_RH4m671jyjgzn6lof-WUZHHXczF3faRfXjweonIYsZAOFNy8-HuH6Zrch-zO5CqaiA1CYkr7S_mugtUeLrWaD45X3ONd6fZxrG2we3eSzGCyiO2zrec3vctJI4hSYZhjzJdaTi_d6HpKT0OuBaCBkrpzIw4SMOcQgz1PuI96W5UyJ8jDZfuJtK2UzU8fumsc1YiutC_99Uxr0DaAnpIH1Gb7iuEw-iwUh0vuktaHPCZm_6jrdP2GbHMwO3mFlhNtcrPBSSLkixkwo6H3jAzjpSA\"/>\n",
       "<input name=\"r\" type=\"hidden\" value=\"iJc2NwU3b2MyScNasHbZnZcX._KU3zXkjcPdoAobIYw-1654631557-0-AShObF1EFvd0bOmYx3eyK0+WoslnxKxdHANKIlWvjJaxI0OX7uEYWxh9VxHPLk0SHGWtQlZgFHahwbfc6jGSqiQ2wIRV2RWyCLuA/P9KeGILugKWBr47ZUIqV6nDRotHKHqxcvveTEXp7eIVb8vD0PQCp71RuoFvfXjH4Ccz+kyeOi5zYLSJYsK96o/x+VntbancGmWroQrzoUsccqR433rjQvSUas1k5geHJ2OvIykZOAFzUEYVAunoWoBDyW1NpYOw/MKRNai1KLU8ayRaqDTi3N6AFJGmxXIsqosj/X4n3IH4R96JRvRPqB105uVDjE8n5P2fmgTk8NBhYZwrI5YHGxTMS/kHdvXLGBWWJelyL1Zat9WpNYYmMJrEuuNQ8+nS00PnXDw4/jaT6+IDJJXusiPfQ1zSNgmToRbDaKNbdMWGSFjr4jb+0OlSAeqNLWpEtaaabhY+GD9YAo1QmKe+gTtbme/BOPG/GYJUGH6j5leT7g/nt6SnctQXALPm+Sx3vh9ui2JzINCBPN4LF36GbeakrW4hr3c/bcA5fNga+KlKmygHB8Hhjge8sntHE5d6KdTsM5XPQS1OMvBnb99y1qbFekX1qPBT/OZQB4+WvY/4ds8BOYTXOJZSkvX1Ty0xCpWGVXmzU61fO+w1RZA33PN+rjRzoNO61ygiq3/pRpvdqcbxT9mFHNta75GKKi8OqTsxM9AYiNcGCXCtyq6J5PVlZRrOee/09AHEHrrO4uQkthV/IWXMbdZag2yoZAScm01pKUyxIeQLG2L2aKfh+SlEGJNyYI8w8S8Hsyu1iXiMfs1kBS5iXNmTbXFFSjL4A0APINVJHGGh7sDp3NDwxkCqW+yRdONn2Mz/P/nNiu0fUPHaidYSgHcW5yDQ+RzZxRluAgO7LDW5ebyVpPFs0rJKWT38YxDaEAhQvCV6jaPByKfyJ4VS4dFFs85J7+XBFRvxYlI5Mn5mwEPbFJfjEUil0l8sSAFnrcDhnqyvXGAXE+X67iJdfd8Zu4p448vUwZJTk9qF52BbKYCQoRvJNrzQbSOG4xlx5K3YnJzzy1V3ahMeS1cccwqrqRsXonBupuL6IgPXQTpxqddDtZyb/9X1gBsA1ShuXiBCOz3Z/vPysk4KyJbF6KtMImXlLznZeJHNlm61l7tgMkuwHZ1MjF0WT7kC1Q5e1m1cQnJsrDN1S4d9sxbYCENm5beQS1J7ljoRqkauvBJQcxegrXb8w3ESUOqJxd+tvzy44BXBVMRLsGdxp2vkCVvjsJ8EAbO5sNttwKHaYvKJPs/mOzoljWH3baSgPzzfQM0VlIPwbz4p2trtYh6wHvlf7a81p1G/POEM5nQ5zvaFhcetFg+yLeC0ikFITFdFOhs73URX96BR8XAiquh4/5WhJzC53JMlalLaAmMxe1NifWJtH3VxHgEYs+ohGRcyIKUZgmpLiznE+MrkdaDAlAPdbTGxBUtvqmYfYhOuh8S5Tpw/90QPnVLB+KqsnLnvHPZZCgvacvVrjtAUXZxXqRt5eJ+Ic6ZdB+nx7sTa0U+U3nxyLSK39E2X5on5kG5RcTjvSYo+SRRjZ8SnuSoQNJhF5k663tgSt4URhpfM3/qtfNx6KB6LpeP+782z8LOZ9YABEo5qdBzMqAsAff/bztnUye+KnYtlTCj2hCEd4NhYJ2iIqGeBhbh0FJjv0vDZUumFA6tXT6bA2NmkmFsN6YQczyLjFLO3hpmARwfGACI6mB3OF4fhktyhittkegBlFfX+jTv0H9mGb2cD8j0ulfG1xCpsVA==\"/>\n",
       "<input name=\"vc\" type=\"hidden\" value=\"4f6fb6b96dfc9c752e346a39ac735cb9\"/>\n",
       "<noscript class=\"cf-captcha-info\" id=\"cf-captcha-bookmark\">\n",
       "<h1 data-translate=\"turn_on_js\" style=\"color:#bd2426;\">Please turn JavaScript on and reload the page.</h1>\n",
       "</noscript>\n",
       "<div class=\"cookie-warning\" data-translate=\"turn_on_cookies\" id=\"no-cookie-warning\" style=\"display:none\">\n",
       "<p data-translate=\"turn_on_cookies\" style=\"color:#bd2426;\">Please enable Cookies and reload the page.</p>\n",
       "</div>\n",
       "<script>\n",
       "  //<![CDATA[\n",
       "    var a = function() {try{return !!window.addEventListener} catch(e) {return !1} },\n",
       "      b = function(b, c) {a() ? document.addEventListener(\"DOMContentLoaded\", b, c) : document.attachEvent(\"onreadystatechange\", b)};\n",
       "      b(function(){\n",
       "        var cookiesEnabled=(navigator.cookieEnabled)? true : false;\n",
       "        if(!cookiesEnabled){\n",
       "          var q = document.getElementById('no-cookie-warning');q.style.display = 'block';\n",
       "        }\n",
       "      });\n",
       "  //]]>\n",
       "  </script>\n",
       "<div id=\"trk_captcha_js\" style=\"background-image:url('/cdn-cgi/images/trace/captcha/nojs/h/transparent.gif?ray=717bede13d696919')\"></div>\n",
       "</form>\n",
       "<script>\n",
       "    //<![CDATA[\n",
       "    (function(){\n",
       "        var isIE = /(MSIE|Trident\\/|Edge\\/)/i.test(window.navigator.userAgent);\n",
       "        var trkjs = isIE ? new Image() : document.createElement('img');\n",
       "        trkjs.setAttribute(\"src\", \"/cdn-cgi/images/trace/captcha/js/transparent.gif?ray=717bede13d696919\");\n",
       "        trkjs.id = \"trk_captcha_js\";\n",
       "        trkjs.setAttribute(\"alt\", \"\");\n",
       "        document.body.appendChild(trkjs);\n",
       "        var cpo=document.createElement('script');\n",
       "        cpo.type='text/javascript';\n",
       "        cpo.src=\"/cdn-cgi/challenge-platform/h/g/orchestrate/captcha/v1?ray=717bede13d696919\";\n",
       "        \n",
       "        window._cf_chl_opt.cOgUHash = location.hash === '' && location.href.indexOf('#') !== -1 ? '#' : location.hash;\n",
       "        window._cf_chl_opt.cOgUQuery = location.search === '' && location.href.slice(0, -window._cf_chl_opt.cOgUHash.length).indexOf('?') !== -1 ? '?' : location.search;\n",
       "        if (window._cf_chl_opt.cUPMDTk && window.history && window.history.replaceState) {\n",
       "          var ogU = location.pathname + window._cf_chl_opt.cOgUQuery + window._cf_chl_opt.cOgUHash;\n",
       "          history.replaceState(null, null, \"\\/bostad\\/lagenhet-3rum-jungfrudansen-solna-kommun-jungfrudansen-12-18482438?__cf_chl_rt_tk=4kEUuvxvtND2NImp7CMJNghoPMtWqeG3jMW6teRCNiM-1654631557-0-gaNycGzNBz0\" + window._cf_chl_opt.cOgUHash);\n",
       "          cpo.onload = function() {\n",
       "            history.replaceState(null, null, ogU);\n",
       "          };\n",
       "        }\n",
       "        \n",
       "        document.getElementsByTagName('head')[0].appendChild(cpo);\n",
       "    }());\n",
       "    //]]>\n",
       "    </script>\n",
       "</div>\n",
       "</div>\n",
       "<div class=\"cf-column\">\n",
       "<div class=\"cf-screenshot-container\">\n",
       "<span class=\"cf-no-screenshot\"></span>\n",
       "</div>\n",
       "</div>\n",
       "</div>\n",
       "</div>\n",
       "</div>\n",
       "<div class=\"cf-section cf-wrapper\">\n",
       "<div class=\"cf-columns two\">\n",
       "<div class=\"cf-column\">\n",
       "<h2 data-translate=\"why_captcha_headline\">Why do I have to complete a CAPTCHA?</h2>\n",
       "<p data-translate=\"why_captcha_detail\">Completing the CAPTCHA proves you are a human and gives you temporary access to the web property.</p>\n",
       "</div>\n",
       "<div class=\"cf-column\">\n",
       "<h2 data-translate=\"resolve_captcha_headline\">What can I do to prevent this in the future?</h2>\n",
       "<p data-translate=\"resolve_captcha_antivirus\">If you are on a personal connection, like at home, you can run an anti-virus scan on your device to make sure it is not infected with malware.</p>\n",
       "<p data-translate=\"resolve_captcha_network\">If you are at an office or shared network, you can ask the network administrator to run a scan across the network looking for misconfigured or infected devices.</p>\n",
       "</div>\n",
       "</div>\n",
       "</div>\n",
       "<div class=\"cf-error-footer cf-wrapper w-240 lg:w-full py-10 sm:py-4 sm:px-8 mx-auto text-center sm:text-left border-solid border-0 border-t border-gray-300\">\n",
       "<p class=\"text-13\">\n",
       "<span class=\"cf-footer-item sm:block sm:mb-1\">Cloudflare Ray ID: <strong class=\"font-semibold\">717bede13d696919</strong></span>\n",
       "<span class=\"cf-footer-separator sm:hidden\">•</span>\n",
       "<span class=\"cf-footer-item sm:block sm:mb-1\"><span>Your IP</span>: 185.219.140.120</span>\n",
       "<span class=\"cf-footer-separator sm:hidden\">•</span>\n",
       "<span class=\"cf-footer-item sm:block sm:mb-1\"><span>Performance &amp; security by</span> <a href=\"https://www.cloudflare.com/5xx-error-landing\" id=\"brand_link\" rel=\"noopener noreferrer\" target=\"_blank\">Cloudflare</a></span>\n",
       "</p>\n",
       "</div><!-- /.error-footer -->\n",
       "</div>\n",
       "</div>"
      ]
     },
     "execution_count": 19,
     "metadata": {},
     "output_type": "execute_result"
    }
   ],
   "source": [
    "jungfrudansen12_soup.div"
   ]
  },
  {
   "cell_type": "code",
   "execution_count": 20,
   "id": "d00bb8ff",
   "metadata": {},
   "outputs": [
    {
     "data": {
      "text/plain": [
       "<div id=\"cf-wrapper\">\n",
       "<div class=\"cf-alert cf-alert-error cf-cookie-error\" data-translate=\"enable_cookies\" id=\"cookie-alert\">Please enable cookies.</div>\n",
       "<div class=\"cf-error-details-wrapper\" id=\"cf-error-details\">\n",
       "<div class=\"cf-wrapper cf-header cf-error-overview\">\n",
       "<h1 data-translate=\"challenge_headline\">One more step</h1>\n",
       "<h2 class=\"cf-subheadline\"><span data-translate=\"complete_sec_check\">Please complete the security check to access</span> www.hemnet.se</h2>\n",
       "</div>\n",
       "<div class=\"cf-section cf-highlight cf-captcha-container\">\n",
       "<div class=\"cf-wrapper\">\n",
       "<div class=\"cf-columns two\">\n",
       "<div class=\"cf-column\">\n",
       "<div class=\"cf-highlight-inverse cf-form-stacked\">\n",
       "<form action=\"/bostad/lagenhet-3rum-jungfrudansen-solna-kommun-jungfrudansen-12-18482438?__cf_chl_f_tk=4kEUuvxvtND2NImp7CMJNghoPMtWqeG3jMW6teRCNiM-1654631557-0-gaNycGzNBz0\" class=\"challenge-form interactive-form\" enctype=\"application/x-www-form-urlencoded\" id=\"challenge-form\" method=\"POST\">\n",
       "<div id=\"cf-please-wait\">\n",
       "<div id=\"spinner\">\n",
       "<div id=\"cf-bubbles\">\n",
       "<div class=\"bubbles\"></div>\n",
       "<div class=\"bubbles\"></div>\n",
       "<div class=\"bubbles\"></div>\n",
       "</div>\n",
       "</div>\n",
       "<p data-translate=\"please_wait\" id=\"cf-spinner-please-wait\">Please stand by, while we are checking your browser...</p>\n",
       "<p data-translate=\"redirecting\" id=\"cf-spinner-redirecting\" style=\"display:none\">Redirecting...</p>\n",
       "</div>\n",
       "<input name=\"md\" type=\"hidden\" value=\"25lqTJWVYzbg3E6HBG9Z9uE01nIwy1fotOW0acgzL7Q-1654631557-0-Aemb7Ec_pqwBEv9oUQEOQ83xD-oM7BZsttOGNmP8rSMjix5iSxlVrqf3GF-WZecaLS0zXQjix1WuSi4DgPl8MImCbAAFLsEg6nxNkq6cF73G7sLta8323IT-VrpEH6WvyTjGEgXyEueozBwBwASXm_IhSgTEPg4X7US8bFZ--LXsT-awWwtyDCgY1gM1PMA5t3_Xw9emwsS_9Jpjy7ksfe5dqyUBeA57LkdW6bJWuu-V2qe-Ho0SdsY35i_DNofvgvP3bvR6FOkwFd84xuvO0qg96l3_2I6wwDThkKxPn_UtMOxxn9cyL_dL1og83LH54vaUUboct38Wcm4DtuLIM5L4H3ZdwMYLVKLH__yhd5UU9reOgRIIsaQWZZUUH5knqdLqGD2ifxdXKP-2cGtsJ24eksdJ-9oMeYpddMg4UGZfq9pRjMyadc3af5gX9N79Ph2I2YgdN53_XREcsQZygl7M_EjX0eujr2fOzrjHM8bNzWF0D6xcpV190NeqWFjfsFCN4Q1_13-WEnn24x_H3tyPYrAh4T4fisHDBR4jAggxltcwWwNk2-IZsL4MMlP5JvJuon9f94MR8No_OA9I9yKbaf-HTJHl6ENc8byh_BRpKrt5TkhkGrty2guwW-nXLO97potTsNncORfecPOdTPR0JXiKmSKWIOdjAjCtHrJPwnQqOmLE5Ef5r3BINEFJUmwVrtFtNFd3usODLEM06JX1bFRRqbGO6aBpcLSaZi_RH4m671jyjgzn6lof-WUZHHXczF3faRfXjweonIYsZAOFNy8-HuH6Zrch-zO5CqaiA1CYkr7S_mugtUeLrWaD45X3ONd6fZxrG2we3eSzGCyiO2zrec3vctJI4hSYZhjzJdaTi_d6HpKT0OuBaCBkrpzIw4SMOcQgz1PuI96W5UyJ8jDZfuJtK2UzU8fumsc1YiutC_99Uxr0DaAnpIH1Gb7iuEw-iwUh0vuktaHPCZm_6jrdP2GbHMwO3mFlhNtcrPBSSLkixkwo6H3jAzjpSA\"/>\n",
       "<input name=\"r\" type=\"hidden\" value=\"iJc2NwU3b2MyScNasHbZnZcX._KU3zXkjcPdoAobIYw-1654631557-0-AShObF1EFvd0bOmYx3eyK0+WoslnxKxdHANKIlWvjJaxI0OX7uEYWxh9VxHPLk0SHGWtQlZgFHahwbfc6jGSqiQ2wIRV2RWyCLuA/P9KeGILugKWBr47ZUIqV6nDRotHKHqxcvveTEXp7eIVb8vD0PQCp71RuoFvfXjH4Ccz+kyeOi5zYLSJYsK96o/x+VntbancGmWroQrzoUsccqR433rjQvSUas1k5geHJ2OvIykZOAFzUEYVAunoWoBDyW1NpYOw/MKRNai1KLU8ayRaqDTi3N6AFJGmxXIsqosj/X4n3IH4R96JRvRPqB105uVDjE8n5P2fmgTk8NBhYZwrI5YHGxTMS/kHdvXLGBWWJelyL1Zat9WpNYYmMJrEuuNQ8+nS00PnXDw4/jaT6+IDJJXusiPfQ1zSNgmToRbDaKNbdMWGSFjr4jb+0OlSAeqNLWpEtaaabhY+GD9YAo1QmKe+gTtbme/BOPG/GYJUGH6j5leT7g/nt6SnctQXALPm+Sx3vh9ui2JzINCBPN4LF36GbeakrW4hr3c/bcA5fNga+KlKmygHB8Hhjge8sntHE5d6KdTsM5XPQS1OMvBnb99y1qbFekX1qPBT/OZQB4+WvY/4ds8BOYTXOJZSkvX1Ty0xCpWGVXmzU61fO+w1RZA33PN+rjRzoNO61ygiq3/pRpvdqcbxT9mFHNta75GKKi8OqTsxM9AYiNcGCXCtyq6J5PVlZRrOee/09AHEHrrO4uQkthV/IWXMbdZag2yoZAScm01pKUyxIeQLG2L2aKfh+SlEGJNyYI8w8S8Hsyu1iXiMfs1kBS5iXNmTbXFFSjL4A0APINVJHGGh7sDp3NDwxkCqW+yRdONn2Mz/P/nNiu0fUPHaidYSgHcW5yDQ+RzZxRluAgO7LDW5ebyVpPFs0rJKWT38YxDaEAhQvCV6jaPByKfyJ4VS4dFFs85J7+XBFRvxYlI5Mn5mwEPbFJfjEUil0l8sSAFnrcDhnqyvXGAXE+X67iJdfd8Zu4p448vUwZJTk9qF52BbKYCQoRvJNrzQbSOG4xlx5K3YnJzzy1V3ahMeS1cccwqrqRsXonBupuL6IgPXQTpxqddDtZyb/9X1gBsA1ShuXiBCOz3Z/vPysk4KyJbF6KtMImXlLznZeJHNlm61l7tgMkuwHZ1MjF0WT7kC1Q5e1m1cQnJsrDN1S4d9sxbYCENm5beQS1J7ljoRqkauvBJQcxegrXb8w3ESUOqJxd+tvzy44BXBVMRLsGdxp2vkCVvjsJ8EAbO5sNttwKHaYvKJPs/mOzoljWH3baSgPzzfQM0VlIPwbz4p2trtYh6wHvlf7a81p1G/POEM5nQ5zvaFhcetFg+yLeC0ikFITFdFOhs73URX96BR8XAiquh4/5WhJzC53JMlalLaAmMxe1NifWJtH3VxHgEYs+ohGRcyIKUZgmpLiznE+MrkdaDAlAPdbTGxBUtvqmYfYhOuh8S5Tpw/90QPnVLB+KqsnLnvHPZZCgvacvVrjtAUXZxXqRt5eJ+Ic6ZdB+nx7sTa0U+U3nxyLSK39E2X5on5kG5RcTjvSYo+SRRjZ8SnuSoQNJhF5k663tgSt4URhpfM3/qtfNx6KB6LpeP+782z8LOZ9YABEo5qdBzMqAsAff/bztnUye+KnYtlTCj2hCEd4NhYJ2iIqGeBhbh0FJjv0vDZUumFA6tXT6bA2NmkmFsN6YQczyLjFLO3hpmARwfGACI6mB3OF4fhktyhittkegBlFfX+jTv0H9mGb2cD8j0ulfG1xCpsVA==\"/>\n",
       "<input name=\"vc\" type=\"hidden\" value=\"4f6fb6b96dfc9c752e346a39ac735cb9\"/>\n",
       "<noscript class=\"cf-captcha-info\" id=\"cf-captcha-bookmark\">\n",
       "<h1 data-translate=\"turn_on_js\" style=\"color:#bd2426;\">Please turn JavaScript on and reload the page.</h1>\n",
       "</noscript>\n",
       "<div class=\"cookie-warning\" data-translate=\"turn_on_cookies\" id=\"no-cookie-warning\" style=\"display:none\">\n",
       "<p data-translate=\"turn_on_cookies\" style=\"color:#bd2426;\">Please enable Cookies and reload the page.</p>\n",
       "</div>\n",
       "<script>\n",
       "  //<![CDATA[\n",
       "    var a = function() {try{return !!window.addEventListener} catch(e) {return !1} },\n",
       "      b = function(b, c) {a() ? document.addEventListener(\"DOMContentLoaded\", b, c) : document.attachEvent(\"onreadystatechange\", b)};\n",
       "      b(function(){\n",
       "        var cookiesEnabled=(navigator.cookieEnabled)? true : false;\n",
       "        if(!cookiesEnabled){\n",
       "          var q = document.getElementById('no-cookie-warning');q.style.display = 'block';\n",
       "        }\n",
       "      });\n",
       "  //]]>\n",
       "  </script>\n",
       "<div id=\"trk_captcha_js\" style=\"background-image:url('/cdn-cgi/images/trace/captcha/nojs/h/transparent.gif?ray=717bede13d696919')\"></div>\n",
       "</form>\n",
       "<script>\n",
       "    //<![CDATA[\n",
       "    (function(){\n",
       "        var isIE = /(MSIE|Trident\\/|Edge\\/)/i.test(window.navigator.userAgent);\n",
       "        var trkjs = isIE ? new Image() : document.createElement('img');\n",
       "        trkjs.setAttribute(\"src\", \"/cdn-cgi/images/trace/captcha/js/transparent.gif?ray=717bede13d696919\");\n",
       "        trkjs.id = \"trk_captcha_js\";\n",
       "        trkjs.setAttribute(\"alt\", \"\");\n",
       "        document.body.appendChild(trkjs);\n",
       "        var cpo=document.createElement('script');\n",
       "        cpo.type='text/javascript';\n",
       "        cpo.src=\"/cdn-cgi/challenge-platform/h/g/orchestrate/captcha/v1?ray=717bede13d696919\";\n",
       "        \n",
       "        window._cf_chl_opt.cOgUHash = location.hash === '' && location.href.indexOf('#') !== -1 ? '#' : location.hash;\n",
       "        window._cf_chl_opt.cOgUQuery = location.search === '' && location.href.slice(0, -window._cf_chl_opt.cOgUHash.length).indexOf('?') !== -1 ? '?' : location.search;\n",
       "        if (window._cf_chl_opt.cUPMDTk && window.history && window.history.replaceState) {\n",
       "          var ogU = location.pathname + window._cf_chl_opt.cOgUQuery + window._cf_chl_opt.cOgUHash;\n",
       "          history.replaceState(null, null, \"\\/bostad\\/lagenhet-3rum-jungfrudansen-solna-kommun-jungfrudansen-12-18482438?__cf_chl_rt_tk=4kEUuvxvtND2NImp7CMJNghoPMtWqeG3jMW6teRCNiM-1654631557-0-gaNycGzNBz0\" + window._cf_chl_opt.cOgUHash);\n",
       "          cpo.onload = function() {\n",
       "            history.replaceState(null, null, ogU);\n",
       "          };\n",
       "        }\n",
       "        \n",
       "        document.getElementsByTagName('head')[0].appendChild(cpo);\n",
       "    }());\n",
       "    //]]>\n",
       "    </script>\n",
       "</div>\n",
       "</div>\n",
       "<div class=\"cf-column\">\n",
       "<div class=\"cf-screenshot-container\">\n",
       "<span class=\"cf-no-screenshot\"></span>\n",
       "</div>\n",
       "</div>\n",
       "</div>\n",
       "</div>\n",
       "</div>\n",
       "<div class=\"cf-section cf-wrapper\">\n",
       "<div class=\"cf-columns two\">\n",
       "<div class=\"cf-column\">\n",
       "<h2 data-translate=\"why_captcha_headline\">Why do I have to complete a CAPTCHA?</h2>\n",
       "<p data-translate=\"why_captcha_detail\">Completing the CAPTCHA proves you are a human and gives you temporary access to the web property.</p>\n",
       "</div>\n",
       "<div class=\"cf-column\">\n",
       "<h2 data-translate=\"resolve_captcha_headline\">What can I do to prevent this in the future?</h2>\n",
       "<p data-translate=\"resolve_captcha_antivirus\">If you are on a personal connection, like at home, you can run an anti-virus scan on your device to make sure it is not infected with malware.</p>\n",
       "<p data-translate=\"resolve_captcha_network\">If you are at an office or shared network, you can ask the network administrator to run a scan across the network looking for misconfigured or infected devices.</p>\n",
       "</div>\n",
       "</div>\n",
       "</div>\n",
       "<div class=\"cf-error-footer cf-wrapper w-240 lg:w-full py-10 sm:py-4 sm:px-8 mx-auto text-center sm:text-left border-solid border-0 border-t border-gray-300\">\n",
       "<p class=\"text-13\">\n",
       "<span class=\"cf-footer-item sm:block sm:mb-1\">Cloudflare Ray ID: <strong class=\"font-semibold\">717bede13d696919</strong></span>\n",
       "<span class=\"cf-footer-separator sm:hidden\">•</span>\n",
       "<span class=\"cf-footer-item sm:block sm:mb-1\"><span>Your IP</span>: 185.219.140.120</span>\n",
       "<span class=\"cf-footer-separator sm:hidden\">•</span>\n",
       "<span class=\"cf-footer-item sm:block sm:mb-1\"><span>Performance &amp; security by</span> <a href=\"https://www.cloudflare.com/5xx-error-landing\" id=\"brand_link\" rel=\"noopener noreferrer\" target=\"_blank\">Cloudflare</a></span>\n",
       "</p>\n",
       "</div><!-- /.error-footer -->\n",
       "</div>\n",
       "</div>"
      ]
     },
     "execution_count": 20,
     "metadata": {},
     "output_type": "execute_result"
    }
   ],
   "source": [
    "jungfrudansen12_soup.find(\"div\")"
   ]
  },
  {
   "cell_type": "code",
   "execution_count": null,
   "id": "64273cd2",
   "metadata": {},
   "outputs": [],
   "source": []
  },
  {
   "cell_type": "code",
   "execution_count": null,
   "id": "ed2b8b53",
   "metadata": {},
   "outputs": [],
   "source": []
  },
  {
   "cell_type": "code",
   "execution_count": null,
   "id": "5e4eca8e",
   "metadata": {},
   "outputs": [],
   "source": []
  },
  {
   "cell_type": "code",
   "execution_count": null,
   "id": "ea5f6e1b",
   "metadata": {},
   "outputs": [],
   "source": [
    "objektet.find(\"div\", class_=\"footer\")"
   ]
  },
  {
   "cell_type": "code",
   "execution_count": null,
   "id": "db154f0f",
   "metadata": {},
   "outputs": [],
   "source": [
    "objektet.find(\"div\", class_=\"article\")"
   ]
  },
  {
   "cell_type": "code",
   "execution_count": null,
   "id": "8aa38ec8",
   "metadata": {},
   "outputs": [],
   "source": [
    "article.h2.a.text"
   ]
  },
  {
   "cell_type": "code",
   "execution_count": null,
   "id": "98a8ecf3",
   "metadata": {},
   "outputs": [],
   "source": []
  },
  {
   "cell_type": "code",
   "execution_count": null,
   "id": "9d05b934",
   "metadata": {},
   "outputs": [],
   "source": [
    "objektet.find_all(\"div\")"
   ]
  },
  {
   "cell_type": "code",
   "execution_count": null,
   "id": "e2f8559f",
   "metadata": {},
   "outputs": [],
   "source": [
    "for articles in objektet.find_all(\"div\", class_=\"article\")"
   ]
  },
  {
   "cell_type": "code",
   "execution_count": null,
   "id": "9448a80f",
   "metadata": {},
   "outputs": [],
   "source": []
  }
 ],
 "metadata": {
  "kernelspec": {
   "display_name": "Python 3 (ipykernel)",
   "language": "python",
   "name": "python3"
  },
  "language_info": {
   "codemirror_mode": {
    "name": "ipython",
    "version": 3
   },
   "file_extension": ".py",
   "mimetype": "text/x-python",
   "name": "python",
   "nbconvert_exporter": "python",
   "pygments_lexer": "ipython3",
   "version": "3.10.2"
  }
 },
 "nbformat": 4,
 "nbformat_minor": 5
}
